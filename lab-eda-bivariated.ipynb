{
 "cells": [
  {
   "cell_type": "code",
   "execution_count": 1,
   "id": "38a17ace",
   "metadata": {},
   "outputs": [],
   "source": [
    "import pandas as pd \n",
    "import matplotlib.pyplot as plt \n",
    "import seaborn as sns \n",
    "import numpy as np\n",
    "\n",
    "from scipy.stats import chi2_contingency\n",
    "from scipy.stats.contingency import association\n",
    "\n",
    "%matplotlib inline\n",
    "\n",
    "pd.set_option('display.max_columns', None)"
   ]
  },
  {
   "cell_type": "code",
   "execution_count": 2,
   "id": "9f167830",
   "metadata": {},
   "outputs": [],
   "source": [
    "data = pd.read_csv(\"amz_uk_price_prediction_dataset.csv\")"
   ]
  },
  {
   "cell_type": "code",
   "execution_count": 3,
   "id": "f4df5f9b",
   "metadata": {},
   "outputs": [],
   "source": [
    "df = data.copy()"
   ]
  },
  {
   "cell_type": "code",
   "execution_count": 4,
   "id": "bc7142d2",
   "metadata": {},
   "outputs": [
    {
     "data": {
      "text/plain": [
       "(2443651, 9)"
      ]
     },
     "execution_count": 4,
     "metadata": {},
     "output_type": "execute_result"
    }
   ],
   "source": [
    "df.shape"
   ]
  },
  {
   "cell_type": "code",
   "execution_count": 5,
   "id": "acc2bc02",
   "metadata": {},
   "outputs": [
    {
     "data": {
      "text/plain": [
       "<bound method IndexOpsMixin.nunique of Index(['uid', 'asin', 'title', 'stars', 'reviews', 'price', 'isBestSeller',\n",
       "       'boughtInLastMonth', 'category'],\n",
       "      dtype='object')>"
      ]
     },
     "execution_count": 5,
     "metadata": {},
     "output_type": "execute_result"
    }
   ],
   "source": [
    "df.columns.nunique"
   ]
  },
  {
   "cell_type": "code",
   "execution_count": 6,
   "id": "dcce835d",
   "metadata": {},
   "outputs": [
    {
     "data": {
      "text/html": [
       "<div>\n",
       "<style scoped>\n",
       "    .dataframe tbody tr th:only-of-type {\n",
       "        vertical-align: middle;\n",
       "    }\n",
       "\n",
       "    .dataframe tbody tr th {\n",
       "        vertical-align: top;\n",
       "    }\n",
       "\n",
       "    .dataframe thead th {\n",
       "        text-align: right;\n",
       "    }\n",
       "</style>\n",
       "<table border=\"1\" class=\"dataframe\">\n",
       "  <thead>\n",
       "    <tr style=\"text-align: right;\">\n",
       "      <th></th>\n",
       "      <th>uid</th>\n",
       "      <th>asin</th>\n",
       "      <th>title</th>\n",
       "      <th>stars</th>\n",
       "      <th>reviews</th>\n",
       "      <th>price</th>\n",
       "      <th>isBestSeller</th>\n",
       "      <th>boughtInLastMonth</th>\n",
       "      <th>category</th>\n",
       "    </tr>\n",
       "  </thead>\n",
       "  <tbody>\n",
       "    <tr>\n",
       "      <th>415066</th>\n",
       "      <td>445347</td>\n",
       "      <td>B0CJN2WHHS</td>\n",
       "      <td>Y2K Long Sleeve Tops Women Cotton Women Drawst...</td>\n",
       "      <td>0.0</td>\n",
       "      <td>0</td>\n",
       "      <td>18.59</td>\n",
       "      <td>False</td>\n",
       "      <td>0</td>\n",
       "      <td>Sports &amp; Outdoors</td>\n",
       "    </tr>\n",
       "    <tr>\n",
       "      <th>2408896</th>\n",
       "      <td>2780301</td>\n",
       "      <td>B096XF4GYP</td>\n",
       "      <td>ANMIEL USB Type C Cable 2M 3.1A Fast Charging&amp;...</td>\n",
       "      <td>4.5</td>\n",
       "      <td>2101</td>\n",
       "      <td>5.99</td>\n",
       "      <td>False</td>\n",
       "      <td>100</td>\n",
       "      <td>Mobile Phones &amp; Communication</td>\n",
       "    </tr>\n",
       "    <tr>\n",
       "      <th>1727603</th>\n",
       "      <td>1947330</td>\n",
       "      <td>B08V8RBZKG</td>\n",
       "      <td>Network Wire Stripper, 10Pcs Mini Wire Strippe...</td>\n",
       "      <td>3.9</td>\n",
       "      <td>6</td>\n",
       "      <td>6.67</td>\n",
       "      <td>False</td>\n",
       "      <td>0</td>\n",
       "      <td>Electrical</td>\n",
       "    </tr>\n",
       "    <tr>\n",
       "      <th>1234437</th>\n",
       "      <td>1367789</td>\n",
       "      <td>B0987SC9C6</td>\n",
       "      <td>Golf Club Bags Portable Backable Golf Club Sto...</td>\n",
       "      <td>0.0</td>\n",
       "      <td>0</td>\n",
       "      <td>15.76</td>\n",
       "      <td>False</td>\n",
       "      <td>0</td>\n",
       "      <td>Sports &amp; Outdoors</td>\n",
       "    </tr>\n",
       "    <tr>\n",
       "      <th>57964</th>\n",
       "      <td>62619</td>\n",
       "      <td>B07R41YXQY</td>\n",
       "      <td>KAILH Cream Speed Gold Silver Copper Bronze Pi...</td>\n",
       "      <td>4.4</td>\n",
       "      <td>411</td>\n",
       "      <td>23.49</td>\n",
       "      <td>False</td>\n",
       "      <td>0</td>\n",
       "      <td>PC Gaming Accessories</td>\n",
       "    </tr>\n",
       "    <tr>\n",
       "      <th>333025</th>\n",
       "      <td>356838</td>\n",
       "      <td>B08P51G69Z</td>\n",
       "      <td>DERUC 3D Touch Sensor for 3D Printer, 3D Touch...</td>\n",
       "      <td>4.2</td>\n",
       "      <td>674</td>\n",
       "      <td>22.99</td>\n",
       "      <td>False</td>\n",
       "      <td>0</td>\n",
       "      <td>3D Printers</td>\n",
       "    </tr>\n",
       "    <tr>\n",
       "      <th>763657</th>\n",
       "      <td>824454</td>\n",
       "      <td>B08PFSCBJ7</td>\n",
       "      <td>HKPLDE Folding Mountain Bike For Adults,21 Spe...</td>\n",
       "      <td>0.0</td>\n",
       "      <td>0</td>\n",
       "      <td>1124.99</td>\n",
       "      <td>False</td>\n",
       "      <td>0</td>\n",
       "      <td>Sports &amp; Outdoors</td>\n",
       "    </tr>\n",
       "    <tr>\n",
       "      <th>592954</th>\n",
       "      <td>639304</td>\n",
       "      <td>B0130IHS3A</td>\n",
       "      <td>Portwest A310 Abrasion Resistant Flexo Grip Ni...</td>\n",
       "      <td>4.7</td>\n",
       "      <td>12</td>\n",
       "      <td>3.68</td>\n",
       "      <td>False</td>\n",
       "      <td>50</td>\n",
       "      <td>Agricultural Equipment &amp; Supplies</td>\n",
       "    </tr>\n",
       "    <tr>\n",
       "      <th>907355</th>\n",
       "      <td>988077</td>\n",
       "      <td>B0C7L6NBJ7</td>\n",
       "      <td>Martial Arts Kung Fu Zen Meditation Uniform,Th...</td>\n",
       "      <td>0.0</td>\n",
       "      <td>0</td>\n",
       "      <td>54.91</td>\n",
       "      <td>False</td>\n",
       "      <td>0</td>\n",
       "      <td>Sports &amp; Outdoors</td>\n",
       "    </tr>\n",
       "    <tr>\n",
       "      <th>979026</th>\n",
       "      <td>1082613</td>\n",
       "      <td>B0BNJS5M4T</td>\n",
       "      <td>Azeeda 'Moonlight Mushrooms' Kid's Sweatshirt/...</td>\n",
       "      <td>0.0</td>\n",
       "      <td>0</td>\n",
       "      <td>12.99</td>\n",
       "      <td>False</td>\n",
       "      <td>0</td>\n",
       "      <td>Sports &amp; Outdoors</td>\n",
       "    </tr>\n",
       "  </tbody>\n",
       "</table>\n",
       "</div>"
      ],
      "text/plain": [
       "             uid        asin  \\\n",
       "415066    445347  B0CJN2WHHS   \n",
       "2408896  2780301  B096XF4GYP   \n",
       "1727603  1947330  B08V8RBZKG   \n",
       "1234437  1367789  B0987SC9C6   \n",
       "57964      62619  B07R41YXQY   \n",
       "333025    356838  B08P51G69Z   \n",
       "763657    824454  B08PFSCBJ7   \n",
       "592954    639304  B0130IHS3A   \n",
       "907355    988077  B0C7L6NBJ7   \n",
       "979026   1082613  B0BNJS5M4T   \n",
       "\n",
       "                                                     title  stars  reviews  \\\n",
       "415066   Y2K Long Sleeve Tops Women Cotton Women Drawst...    0.0        0   \n",
       "2408896  ANMIEL USB Type C Cable 2M 3.1A Fast Charging&...    4.5     2101   \n",
       "1727603  Network Wire Stripper, 10Pcs Mini Wire Strippe...    3.9        6   \n",
       "1234437  Golf Club Bags Portable Backable Golf Club Sto...    0.0        0   \n",
       "57964    KAILH Cream Speed Gold Silver Copper Bronze Pi...    4.4      411   \n",
       "333025   DERUC 3D Touch Sensor for 3D Printer, 3D Touch...    4.2      674   \n",
       "763657   HKPLDE Folding Mountain Bike For Adults,21 Spe...    0.0        0   \n",
       "592954   Portwest A310 Abrasion Resistant Flexo Grip Ni...    4.7       12   \n",
       "907355   Martial Arts Kung Fu Zen Meditation Uniform,Th...    0.0        0   \n",
       "979026   Azeeda 'Moonlight Mushrooms' Kid's Sweatshirt/...    0.0        0   \n",
       "\n",
       "           price  isBestSeller  boughtInLastMonth  \\\n",
       "415066     18.59         False                  0   \n",
       "2408896     5.99         False                100   \n",
       "1727603     6.67         False                  0   \n",
       "1234437    15.76         False                  0   \n",
       "57964      23.49         False                  0   \n",
       "333025     22.99         False                  0   \n",
       "763657   1124.99         False                  0   \n",
       "592954      3.68         False                 50   \n",
       "907355     54.91         False                  0   \n",
       "979026     12.99         False                  0   \n",
       "\n",
       "                                  category  \n",
       "415066                   Sports & Outdoors  \n",
       "2408896      Mobile Phones & Communication  \n",
       "1727603                         Electrical  \n",
       "1234437                  Sports & Outdoors  \n",
       "57964                PC Gaming Accessories  \n",
       "333025                         3D Printers  \n",
       "763657                   Sports & Outdoors  \n",
       "592954   Agricultural Equipment & Supplies  \n",
       "907355                   Sports & Outdoors  \n",
       "979026                   Sports & Outdoors  "
      ]
     },
     "execution_count": 6,
     "metadata": {},
     "output_type": "execute_result"
    }
   ],
   "source": [
    "df.sample(10)"
   ]
  },
  {
   "cell_type": "markdown",
   "id": "438917a9",
   "metadata": {},
   "source": [
    "### Part 1: Analyzing Best-Seller Trends Across Product Categories\n",
    "\n",
    "**Objective**: Understand the relationship between product categories and their best-seller status."
   ]
  },
  {
   "cell_type": "markdown",
   "id": "9d450504",
   "metadata": {},
   "source": [
    "\n",
    "1. **Crosstab Analysis**:\n",
    "    - Create a crosstab between the product `category` and the `isBestSeller` status.\n",
    "    \n",
    "    - Are there categories where being a best-seller is more prevalent? \n",
    "    \t\n",
    "    \t*Hint: one option is to calculate the proportion of best-sellers for each category and then sort the categories based on this proportion in descending order.*\n"
   ]
  },
  {
   "cell_type": "code",
   "execution_count": 7,
   "id": "183f6fd1",
   "metadata": {},
   "outputs": [],
   "source": [
    "df['isBestSeller'] = np.where(df['isBestSeller'], 1, 0)"
   ]
  },
  {
   "cell_type": "code",
   "execution_count": 8,
   "id": "af970d65",
   "metadata": {},
   "outputs": [],
   "source": [
    "cross_tab = pd.crosstab(df['category'], df['isBestSeller'], margins=True)"
   ]
  },
  {
   "cell_type": "code",
   "execution_count": 9,
   "id": "44a838d7",
   "metadata": {},
   "outputs": [
    {
     "data": {
      "text/html": [
       "<div>\n",
       "<style scoped>\n",
       "    .dataframe tbody tr th:only-of-type {\n",
       "        vertical-align: middle;\n",
       "    }\n",
       "\n",
       "    .dataframe tbody tr th {\n",
       "        vertical-align: top;\n",
       "    }\n",
       "\n",
       "    .dataframe thead th {\n",
       "        text-align: right;\n",
       "    }\n",
       "</style>\n",
       "<table border=\"1\" class=\"dataframe\">\n",
       "  <thead>\n",
       "    <tr style=\"text-align: right;\">\n",
       "      <th>isBestSeller</th>\n",
       "      <th>0</th>\n",
       "      <th>1</th>\n",
       "      <th>All</th>\n",
       "    </tr>\n",
       "    <tr>\n",
       "      <th>category</th>\n",
       "      <th></th>\n",
       "      <th></th>\n",
       "      <th></th>\n",
       "    </tr>\n",
       "  </thead>\n",
       "  <tbody>\n",
       "    <tr>\n",
       "      <th>3D Printers</th>\n",
       "      <td>247</td>\n",
       "      <td>1</td>\n",
       "      <td>248</td>\n",
       "    </tr>\n",
       "    <tr>\n",
       "      <th>3D Printing &amp; Scanning</th>\n",
       "      <td>4065</td>\n",
       "      <td>2</td>\n",
       "      <td>4067</td>\n",
       "    </tr>\n",
       "    <tr>\n",
       "      <th>Abrasive &amp; Finishing Products</th>\n",
       "      <td>245</td>\n",
       "      <td>5</td>\n",
       "      <td>250</td>\n",
       "    </tr>\n",
       "    <tr>\n",
       "      <th>Action Cameras</th>\n",
       "      <td>1696</td>\n",
       "      <td>1</td>\n",
       "      <td>1697</td>\n",
       "    </tr>\n",
       "    <tr>\n",
       "      <th>Adapters</th>\n",
       "      <td>251</td>\n",
       "      <td>3</td>\n",
       "      <td>254</td>\n",
       "    </tr>\n",
       "    <tr>\n",
       "      <th>...</th>\n",
       "      <td>...</td>\n",
       "      <td>...</td>\n",
       "      <td>...</td>\n",
       "    </tr>\n",
       "    <tr>\n",
       "      <th>Window Treatments</th>\n",
       "      <td>234</td>\n",
       "      <td>5</td>\n",
       "      <td>239</td>\n",
       "    </tr>\n",
       "    <tr>\n",
       "      <th>Women</th>\n",
       "      <td>17559</td>\n",
       "      <td>213</td>\n",
       "      <td>17772</td>\n",
       "    </tr>\n",
       "    <tr>\n",
       "      <th>Women's Sports &amp; Outdoor Shoes</th>\n",
       "      <td>1939</td>\n",
       "      <td>20</td>\n",
       "      <td>1959</td>\n",
       "    </tr>\n",
       "    <tr>\n",
       "      <th>eBook Readers &amp; Accessories</th>\n",
       "      <td>246</td>\n",
       "      <td>0</td>\n",
       "      <td>246</td>\n",
       "    </tr>\n",
       "    <tr>\n",
       "      <th>All</th>\n",
       "      <td>2435671</td>\n",
       "      <td>7980</td>\n",
       "      <td>2443651</td>\n",
       "    </tr>\n",
       "  </tbody>\n",
       "</table>\n",
       "<p>297 rows × 3 columns</p>\n",
       "</div>"
      ],
      "text/plain": [
       "isBestSeller                          0     1      All\n",
       "category                                              \n",
       "3D Printers                         247     1      248\n",
       "3D Printing & Scanning             4065     2     4067\n",
       "Abrasive & Finishing Products       245     5      250\n",
       "Action Cameras                     1696     1     1697\n",
       "Adapters                            251     3      254\n",
       "...                                 ...   ...      ...\n",
       "Window Treatments                   234     5      239\n",
       "Women                             17559   213    17772\n",
       "Women's Sports & Outdoor Shoes     1939    20     1959\n",
       "eBook Readers & Accessories         246     0      246\n",
       "All                             2435671  7980  2443651\n",
       "\n",
       "[297 rows x 3 columns]"
      ]
     },
     "execution_count": 9,
     "metadata": {},
     "output_type": "execute_result"
    }
   ],
   "source": [
    "cross_tab"
   ]
  },
  {
   "cell_type": "code",
   "execution_count": 11,
   "id": "30e6125c",
   "metadata": {},
   "outputs": [
    {
     "data": {
      "text/plain": [
       "isBestSeller\n",
       "0      int64\n",
       "1      int64\n",
       "All    int64\n",
       "dtype: object"
      ]
     },
     "execution_count": 11,
     "metadata": {},
     "output_type": "execute_result"
    }
   ],
   "source": [
    "cross_tab.dtypes"
   ]
  },
  {
   "cell_type": "code",
   "execution_count": 14,
   "id": "0497d4b3",
   "metadata": {},
   "outputs": [
    {
     "data": {
      "text/plain": [
       "category\n",
       "3D Printers                       0.004032\n",
       "3D Printing & Scanning            0.000492\n",
       "Abrasive & Finishing Products     0.020000\n",
       "Action Cameras                    0.000589\n",
       "Adapters                          0.011811\n",
       "                                    ...   \n",
       "Window Treatments                 0.020921\n",
       "Women                             0.011985\n",
       "Women's Sports & Outdoor Shoes    0.010209\n",
       "eBook Readers & Accessories       0.000000\n",
       "All                               0.003266\n",
       "Name: Proportion, Length: 297, dtype: float64"
      ]
     },
     "execution_count": 14,
     "metadata": {},
     "output_type": "execute_result"
    }
   ],
   "source": [
    "cross_tab['Proportion'] = cross_tab[1] / cross_tab['All']\n",
    "cross_tab['Proportion']"
   ]
  },
  {
   "cell_type": "code",
   "execution_count": 15,
   "id": "937add66",
   "metadata": {},
   "outputs": [],
   "source": [
    "sorted_categories = cross_tab.sort_values(by='Proportion', ascending=False)"
   ]
  },
  {
   "cell_type": "code",
   "execution_count": 13,
   "id": "cd567f82",
   "metadata": {},
   "outputs": [
    {
     "ename": "NameError",
     "evalue": "name 'sorted_categories' is not defined",
     "output_type": "error",
     "traceback": [
      "\u001b[1;31m---------------------------------------------------------------------------\u001b[0m",
      "\u001b[1;31mNameError\u001b[0m                                 Traceback (most recent call last)",
      "Cell \u001b[1;32mIn[13], line 1\u001b[0m\n\u001b[1;32m----> 1\u001b[0m sorted_categories\n",
      "\u001b[1;31mNameError\u001b[0m: name 'sorted_categories' is not defined"
     ]
    }
   ],
   "source": [
    "sorted_categories"
   ]
  },
  {
   "cell_type": "markdown",
   "id": "bad6d8d6",
   "metadata": {},
   "source": [
    "\n",
    "2. **Statistical Tests**:\n",
    "    - Conduct a Chi-square test to determine if the best-seller distribution is independent of the product category.\n",
    "    - Compute Cramér's V to understand the strength of association between best-seller status and category.\n"
   ]
  },
  {
   "cell_type": "code",
   "execution_count": 16,
   "id": "4cb0595c",
   "metadata": {
    "collapsed": true
   },
   "outputs": [
    {
     "name": "stdout",
     "output_type": "stream",
     "text": [
      "0.00000000000000000000000000000000000000000000000000000000000000000000000000000000000000000000000000000000000000000000000000000000000000000000000000000000000000000000000000000000000000000000000000000000000000000000000000000000000000000000000000000000000000000000000000000000000000000000000000000000000000000000000000000000000000000000000000000000000000000000000000000000000000000000000000000000000000000000000000000000000000000000000000000000000000000000000000000000000000000000000000000000000000000000000000000000000000000000000000000000000000000000000000000000000000000000000000000000000000000000000000000000000000000000000000000000000000000000000000000000000000000000000000000000000000000000000000000000000000000000000000000000000000000000000000000000000000000000000000000000000000000000000000000000000000000000000000000000000000000000000000000000000000000000000000000000000000000000000000000000000000000000000000000000000000000000000000000000000000000000000000000000000000000000000000000000000000000000000000000000000000000000000000000000000000000000000000000000000000000000000000000000000000000000000000000000000000000000000000000000000000000000000000000000000000000000000000000000000000000000000000000000000000000000000000000000000000000000000000000000000000000000000000000000000000000000000000000000000000000000000000000000000000000000000000000000000000000000000000000000000000000000000000000000000000000000000000000000000000000000000000000000000000000000000000000000000000000000000000000000000000000000000000000000000000000000000000000000000000000000000000000000000000000000000000000000000000000000000000000000000000000000000000000000000000000000000000000000000000000000000000000000000000000000000000000000000000000000000000000000000000000000000000000000000000000000000000000000000000000000000000000000000000000000000000000000000000000000000000000000000000000000000000000000000000000000000000000000000000000000000000000000000000000000000000000000000000000000000000000000000000000000000000000000\n"
     ]
    }
   ],
   "source": [
    "_, p_value, _, _ = chi2_contingency(cross_tab)\n",
    "p_value\n",
    "num_sci = p_value\n",
    "print(f'{num_sci:.2000f}')"
   ]
  },
  {
   "cell_type": "markdown",
   "id": "44b2aa76",
   "metadata": {},
   "source": [
    "The null hypothesis of the Chi-square test is that the two categorical variables are independent. Given Null value ( p )-value, we reject the null hypothesis."
   ]
  },
  {
   "cell_type": "code",
   "execution_count": 12,
   "id": "03f8e84e",
   "metadata": {},
   "outputs": [
    {
     "data": {
      "text/plain": [
       "0.04323354945446208"
      ]
     },
     "execution_count": 12,
     "metadata": {},
     "output_type": "execute_result"
    }
   ],
   "source": [
    "association(cross_tab)"
   ]
  },
  {
   "cell_type": "markdown",
   "id": "a586fb71",
   "metadata": {},
   "source": [
    "3. **Visualizations**:\n",
    "\t- Visualize the relationship between product categories and the best-seller status using a stacked bar chart.\n"
   ]
  },
  {
   "cell_type": "code",
   "execution_count": null,
   "id": "a8b0b8e6",
   "metadata": {},
   "outputs": [],
   "source": [
    "plt.figure(figsize = (20,12))\n",
    "cross_tab.plot(kind=\"bar\", stacked=True)\n",
    "plt.xlabel(\"Category\")\n",
    "plt.ylabel(\"Number of Best-Sellers\")\n",
    "plt.show()"
   ]
  },
  {
   "cell_type": "markdown",
   "id": "d59a67e6",
   "metadata": {},
   "source": [
    "### Part 2: Exploring Product Prices and Ratings Across Categories and Brands\n",
    "\n",
    "**Objective**: Investigate how different product categories influence product prices.\n",
    "\n"
   ]
  },
  {
   "cell_type": "markdown",
   "id": "0d920d03",
   "metadata": {},
   "source": [
    "0. **Preliminary Step: Remove outliers in product prices.**\n",
    "\n",
    "\tFor this purpose, we can use the IQR (Interquartile Range) method. Products priced below the first quartile minus 1.5 times the IQR or above the third quartile plus 1.5 times the IQR will be considered outliers and removed from the dataset. The next steps will be done with the dataframe without outliers.\n",
    "\t\n",
    "\t*Hint: you can check the last Check For Understanding at the end of the lesson EDA Bivariate Analysis for a hint on how to do this.*\n",
    "\n"
   ]
  },
  {
   "cell_type": "code",
   "execution_count": 17,
   "id": "48de3be7",
   "metadata": {},
   "outputs": [
    {
     "data": {
      "text/plain": [
       "count    2443651.00\n",
       "mean          89.24\n",
       "std          345.61\n",
       "min            0.00\n",
       "25%            9.99\n",
       "50%           19.09\n",
       "75%           45.99\n",
       "max       100000.00\n",
       "Name: price, dtype: float64"
      ]
     },
     "execution_count": 17,
     "metadata": {},
     "output_type": "execute_result"
    }
   ],
   "source": [
    "df[\"price\"].describe().round(2)"
   ]
  },
  {
   "cell_type": "code",
   "execution_count": 18,
   "id": "d76c2b78",
   "metadata": {},
   "outputs": [],
   "source": [
    "Q1 = np.percentile(df[\"price\"],25)\n",
    "Q3 = np.percentile(df[\"price\"],75)\n",
    "IQR = Q3-Q1"
   ]
  },
  {
   "cell_type": "code",
   "execution_count": 19,
   "id": "8e0cdad2",
   "metadata": {},
   "outputs": [],
   "source": [
    "lower_bound = Q1-1.5*IQR\n",
    "upper_bound = Q3+1.5*IQR"
   ]
  },
  {
   "cell_type": "code",
   "execution_count": 20,
   "id": "fc9d93ae",
   "metadata": {},
   "outputs": [],
   "source": [
    "df_outliers= df[(df[\"price\"]< lower_bound) | (df[\"price\"]> upper_bound)]"
   ]
  },
  {
   "cell_type": "code",
   "execution_count": 21,
   "id": "0d2fe659",
   "metadata": {},
   "outputs": [],
   "source": [
    "df2 = df[(df[\"price\"]>= lower_bound) & (df[\"price\"]<=upper_bound)]"
   ]
  },
  {
   "cell_type": "code",
   "execution_count": 22,
   "id": "5f78f006",
   "metadata": {},
   "outputs": [
    {
     "data": {
      "text/html": [
       "<div>\n",
       "<style scoped>\n",
       "    .dataframe tbody tr th:only-of-type {\n",
       "        vertical-align: middle;\n",
       "    }\n",
       "\n",
       "    .dataframe tbody tr th {\n",
       "        vertical-align: top;\n",
       "    }\n",
       "\n",
       "    .dataframe thead th {\n",
       "        text-align: right;\n",
       "    }\n",
       "</style>\n",
       "<table border=\"1\" class=\"dataframe\">\n",
       "  <thead>\n",
       "    <tr style=\"text-align: right;\">\n",
       "      <th></th>\n",
       "      <th>uid</th>\n",
       "      <th>asin</th>\n",
       "      <th>title</th>\n",
       "      <th>stars</th>\n",
       "      <th>reviews</th>\n",
       "      <th>price</th>\n",
       "      <th>isBestSeller</th>\n",
       "      <th>boughtInLastMonth</th>\n",
       "      <th>category</th>\n",
       "    </tr>\n",
       "  </thead>\n",
       "  <tbody>\n",
       "    <tr>\n",
       "      <th>0</th>\n",
       "      <td>1</td>\n",
       "      <td>B09B96TG33</td>\n",
       "      <td>Echo Dot (5th generation, 2022 release) | Big ...</td>\n",
       "      <td>4.7</td>\n",
       "      <td>15308</td>\n",
       "      <td>21.99</td>\n",
       "      <td>0</td>\n",
       "      <td>0</td>\n",
       "      <td>Hi-Fi Speakers</td>\n",
       "    </tr>\n",
       "    <tr>\n",
       "      <th>1</th>\n",
       "      <td>2</td>\n",
       "      <td>B01HTH3C8S</td>\n",
       "      <td>Anker Soundcore mini, Super-Portable Bluetooth...</td>\n",
       "      <td>4.7</td>\n",
       "      <td>98099</td>\n",
       "      <td>23.99</td>\n",
       "      <td>1</td>\n",
       "      <td>0</td>\n",
       "      <td>Hi-Fi Speakers</td>\n",
       "    </tr>\n",
       "    <tr>\n",
       "      <th>2</th>\n",
       "      <td>3</td>\n",
       "      <td>B09B8YWXDF</td>\n",
       "      <td>Echo Dot (5th generation, 2022 release) | Big ...</td>\n",
       "      <td>4.7</td>\n",
       "      <td>15308</td>\n",
       "      <td>21.99</td>\n",
       "      <td>0</td>\n",
       "      <td>0</td>\n",
       "      <td>Hi-Fi Speakers</td>\n",
       "    </tr>\n",
       "    <tr>\n",
       "      <th>3</th>\n",
       "      <td>4</td>\n",
       "      <td>B09B8T5VGV</td>\n",
       "      <td>Echo Dot with clock (5th generation, 2022 rele...</td>\n",
       "      <td>4.7</td>\n",
       "      <td>7205</td>\n",
       "      <td>31.99</td>\n",
       "      <td>0</td>\n",
       "      <td>0</td>\n",
       "      <td>Hi-Fi Speakers</td>\n",
       "    </tr>\n",
       "    <tr>\n",
       "      <th>4</th>\n",
       "      <td>5</td>\n",
       "      <td>B09WX6QD65</td>\n",
       "      <td>Introducing Echo Pop | Full sound compact Wi-F...</td>\n",
       "      <td>4.6</td>\n",
       "      <td>1881</td>\n",
       "      <td>17.99</td>\n",
       "      <td>0</td>\n",
       "      <td>0</td>\n",
       "      <td>Hi-Fi Speakers</td>\n",
       "    </tr>\n",
       "    <tr>\n",
       "      <th>...</th>\n",
       "      <td>...</td>\n",
       "      <td>...</td>\n",
       "      <td>...</td>\n",
       "      <td>...</td>\n",
       "      <td>...</td>\n",
       "      <td>...</td>\n",
       "      <td>...</td>\n",
       "      <td>...</td>\n",
       "      <td>...</td>\n",
       "    </tr>\n",
       "    <tr>\n",
       "      <th>2443646</th>\n",
       "      <td>2828589</td>\n",
       "      <td>B0CHSD7P2Q</td>\n",
       "      <td>Motorbike Armour, Motorbike Clothing, Cycling ...</td>\n",
       "      <td>0.0</td>\n",
       "      <td>0</td>\n",
       "      <td>22.34</td>\n",
       "      <td>0</td>\n",
       "      <td>0</td>\n",
       "      <td>Motorbike Clothing</td>\n",
       "    </tr>\n",
       "    <tr>\n",
       "      <th>2443647</th>\n",
       "      <td>2828590</td>\n",
       "      <td>B0B7B8FNBQ</td>\n",
       "      <td>PROFIRST Waterproof Motorcycle 2 Piece Ladies ...</td>\n",
       "      <td>0.0</td>\n",
       "      <td>0</td>\n",
       "      <td>97.99</td>\n",
       "      <td>0</td>\n",
       "      <td>0</td>\n",
       "      <td>Motorbike Clothing</td>\n",
       "    </tr>\n",
       "    <tr>\n",
       "      <th>2443648</th>\n",
       "      <td>2828591</td>\n",
       "      <td>B0BD5FL5FB</td>\n",
       "      <td>Men’s Motorcycle Motorbike Biker Trousers Kevl...</td>\n",
       "      <td>0.0</td>\n",
       "      <td>0</td>\n",
       "      <td>52.99</td>\n",
       "      <td>0</td>\n",
       "      <td>0</td>\n",
       "      <td>Motorbike Clothing</td>\n",
       "    </tr>\n",
       "    <tr>\n",
       "      <th>2443649</th>\n",
       "      <td>2828592</td>\n",
       "      <td>B008OYLL4I</td>\n",
       "      <td>Texpeed Mens Motorcycle Motorbike Biker Trouse...</td>\n",
       "      <td>4.3</td>\n",
       "      <td>404</td>\n",
       "      <td>79.99</td>\n",
       "      <td>0</td>\n",
       "      <td>0</td>\n",
       "      <td>Motorbike Clothing</td>\n",
       "    </tr>\n",
       "    <tr>\n",
       "      <th>2443650</th>\n",
       "      <td>2828593</td>\n",
       "      <td>B08P3W9B3T</td>\n",
       "      <td>RIDEX CJ223 Motorcycle Motorbike Jacket Armour...</td>\n",
       "      <td>4.5</td>\n",
       "      <td>34</td>\n",
       "      <td>53.99</td>\n",
       "      <td>0</td>\n",
       "      <td>0</td>\n",
       "      <td>Motorbike Clothing</td>\n",
       "    </tr>\n",
       "  </tbody>\n",
       "</table>\n",
       "<p>2115963 rows × 9 columns</p>\n",
       "</div>"
      ],
      "text/plain": [
       "             uid        asin  \\\n",
       "0              1  B09B96TG33   \n",
       "1              2  B01HTH3C8S   \n",
       "2              3  B09B8YWXDF   \n",
       "3              4  B09B8T5VGV   \n",
       "4              5  B09WX6QD65   \n",
       "...          ...         ...   \n",
       "2443646  2828589  B0CHSD7P2Q   \n",
       "2443647  2828590  B0B7B8FNBQ   \n",
       "2443648  2828591  B0BD5FL5FB   \n",
       "2443649  2828592  B008OYLL4I   \n",
       "2443650  2828593  B08P3W9B3T   \n",
       "\n",
       "                                                     title  stars  reviews  \\\n",
       "0        Echo Dot (5th generation, 2022 release) | Big ...    4.7    15308   \n",
       "1        Anker Soundcore mini, Super-Portable Bluetooth...    4.7    98099   \n",
       "2        Echo Dot (5th generation, 2022 release) | Big ...    4.7    15308   \n",
       "3        Echo Dot with clock (5th generation, 2022 rele...    4.7     7205   \n",
       "4        Introducing Echo Pop | Full sound compact Wi-F...    4.6     1881   \n",
       "...                                                    ...    ...      ...   \n",
       "2443646  Motorbike Armour, Motorbike Clothing, Cycling ...    0.0        0   \n",
       "2443647  PROFIRST Waterproof Motorcycle 2 Piece Ladies ...    0.0        0   \n",
       "2443648  Men’s Motorcycle Motorbike Biker Trousers Kevl...    0.0        0   \n",
       "2443649  Texpeed Mens Motorcycle Motorbike Biker Trouse...    4.3      404   \n",
       "2443650  RIDEX CJ223 Motorcycle Motorbike Jacket Armour...    4.5       34   \n",
       "\n",
       "         price  isBestSeller  boughtInLastMonth            category  \n",
       "0        21.99             0                  0      Hi-Fi Speakers  \n",
       "1        23.99             1                  0      Hi-Fi Speakers  \n",
       "2        21.99             0                  0      Hi-Fi Speakers  \n",
       "3        31.99             0                  0      Hi-Fi Speakers  \n",
       "4        17.99             0                  0      Hi-Fi Speakers  \n",
       "...        ...           ...                ...                 ...  \n",
       "2443646  22.34             0                  0  Motorbike Clothing  \n",
       "2443647  97.99             0                  0  Motorbike Clothing  \n",
       "2443648  52.99             0                  0  Motorbike Clothing  \n",
       "2443649  79.99             0                  0  Motorbike Clothing  \n",
       "2443650  53.99             0                  0  Motorbike Clothing  \n",
       "\n",
       "[2115963 rows x 9 columns]"
      ]
     },
     "execution_count": 22,
     "metadata": {},
     "output_type": "execute_result"
    }
   ],
   "source": [
    "df2"
   ]
  },
  {
   "cell_type": "markdown",
   "id": "aab8e1ee",
   "metadata": {},
   "source": [
    "1. **Violin Plots**:\n",
    "    - Use a violin plot to visualize the distribution of `price` across different product `categories`. Filter out the top 20 categories based on count for better visualization.\n",
    "    - Which product category tends to have the highest median price? Don't filter here by top categories.\n",
    "\n"
   ]
  },
  {
   "cell_type": "code",
   "execution_count": 23,
   "id": "2d97b350",
   "metadata": {},
   "outputs": [],
   "source": [
    "top_categories = df2['category'].value_counts().head(20).index\n",
    "df2filter = df2[df2['category'].isin(top_categories)]"
   ]
  },
  {
   "cell_type": "code",
   "execution_count": 24,
   "id": "54cf8346",
   "metadata": {},
   "outputs": [
    {
     "data": {
      "text/plain": [
       "<Axes: xlabel='category', ylabel='price'>"
      ]
     },
     "execution_count": 24,
     "metadata": {},
     "output_type": "execute_result"
    },
    {
     "data": {
      "image/png": "[encoded data removed]",
      "text/plain": [
       "<Figure size 640x480 with 1 Axes>"
      ]
     },
     "metadata": {},
     "output_type": "display_data"
    }
   ],
   "source": [
    "sns.violinplot(data=df2filter, x=\"category\", y=\"price\")"
   ]
  },
  {
   "cell_type": "markdown",
   "id": "acce5b0d",
   "metadata": {},
   "source": [
    "2. **Bar Charts**:\n",
    "    - Create a bar chart comparing the average price of products for the top 10 product categories (based on count).\n",
    "    - Which product category commands the highest average price? Don't filter here by top categories.\n",
    "\n"
   ]
  },
  {
   "cell_type": "markdown",
   "id": "d20995b4",
   "metadata": {},
   "source": [
    "3. **Box Plots**:\n",
    "    - Visualize the distribution of product `ratings` based on their `category` using side-by-side box plots. Filter out the top 10 categories based on count for better visualization.\n",
    "    - Which category tends to receive the highest median rating from customers? Don't filter here by top categories."
   ]
  },
  {
   "cell_type": "markdown",
   "id": "e1dac1d7",
   "metadata": {},
   "source": [
    "### Part 3: Investigating the Interplay Between Product Prices and Ratings\n",
    "\n",
    "**Objective**: Analyze how product ratings (`stars`) correlate with product prices.\n",
    "\n"
   ]
  },
  {
   "cell_type": "markdown",
   "id": "52822726",
   "metadata": {},
   "source": [
    "1. **Correlation Coefficients**:\n",
    "    - Calculate the correlation coefficient between `price` and `stars`.\n",
    "    - Is there a significant correlation between product price and its rating?"
   ]
  },
  {
   "cell_type": "markdown",
   "id": "74d932ae",
   "metadata": {},
   "source": [
    "2. **Visualizations**:\n",
    "    - Use a scatter plot to visualize the relationship between product rating and price. What patterns can you observe?\n",
    "    - Use a correlation heatmap to visualize correlations between all numerical variables.\n",
    "    - Examine if product prices typically follow a normal distribution using a QQ plot. "
   ]
  },
  {
   "cell_type": "code",
   "execution_count": null,
   "id": "39fbc888",
   "metadata": {},
   "outputs": [],
   "source": []
  }
 ],
 "metadata": {
  "kernelspec": {
   "display_name": "Python 3 (ipykernel)",
   "language": "python",
   "name": "python3"
  },
  "language_info": {
   "codemirror_mode": {
    "name": "ipython",
    "version": 3
   },
   "file_extension": ".py",
   "mimetype": "text/x-python",
   "name": "python",
   "nbconvert_exporter": "python",
   "pygments_lexer": "ipython3",
   "version": "3.11.5"
  }
 },
 "nbformat": 4,
 "nbformat_minor": 5
}
