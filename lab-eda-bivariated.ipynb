{
 "cells": [
  {
   "cell_type": "code",
   "execution_count": 1,
   "id": "38a17ace",
   "metadata": {},
   "outputs": [],
   "source": [
    "import pandas as pd \n",
    "import matplotlib.pyplot as plt \n",
    "import seaborn as sns \n",
    "import numpy as np\n",
    "\n",
    "from scipy.stats import chi2_contingency\n",
    "from scipy.stats.contingency import association\n",
    "\n",
    "%matplotlib inline\n",
    "\n",
    "pd.set_option('display.max_columns', None)"
   ]
  },
  {
   "cell_type": "code",
   "execution_count": 2,
   "id": "9f167830",
   "metadata": {},
   "outputs": [],
   "source": [
    "data = pd.read_csv(\"amz_uk_price_prediction_dataset.csv\")"
   ]
  },
  {
   "cell_type": "code",
   "execution_count": 3,
   "id": "f4df5f9b",
   "metadata": {},
   "outputs": [],
   "source": [
    "df = data.copy()"
   ]
  },
  {
   "cell_type": "code",
   "execution_count": 4,
   "id": "bc7142d2",
   "metadata": {},
   "outputs": [
    {
     "data": {
      "text/plain": [
       "(2443651, 9)"
      ]
     },
     "execution_count": 4,
     "metadata": {},
     "output_type": "execute_result"
    }
   ],
   "source": [
    "df.shape"
   ]
  },
  {
   "cell_type": "code",
   "execution_count": 5,
   "id": "acc2bc02",
   "metadata": {},
   "outputs": [
    {
     "data": {
      "text/plain": [
       "<bound method IndexOpsMixin.nunique of Index(['uid', 'asin', 'title', 'stars', 'reviews', 'price', 'isBestSeller',\n",
       "       'boughtInLastMonth', 'category'],\n",
       "      dtype='object')>"
      ]
     },
     "execution_count": 5,
     "metadata": {},
     "output_type": "execute_result"
    }
   ],
   "source": [
    "df.columns.nunique"
   ]
  },
  {
   "cell_type": "code",
   "execution_count": 6,
   "id": "dcce835d",
   "metadata": {},
   "outputs": [
    {
     "data": {
      "text/html": [
       "<div>\n",
       "<style scoped>\n",
       "    .dataframe tbody tr th:only-of-type {\n",
       "        vertical-align: middle;\n",
       "    }\n",
       "\n",
       "    .dataframe tbody tr th {\n",
       "        vertical-align: top;\n",
       "    }\n",
       "\n",
       "    .dataframe thead th {\n",
       "        text-align: right;\n",
       "    }\n",
       "</style>\n",
       "<table border=\"1\" class=\"dataframe\">\n",
       "  <thead>\n",
       "    <tr style=\"text-align: right;\">\n",
       "      <th></th>\n",
       "      <th>uid</th>\n",
       "      <th>asin</th>\n",
       "      <th>title</th>\n",
       "      <th>stars</th>\n",
       "      <th>reviews</th>\n",
       "      <th>price</th>\n",
       "      <th>isBestSeller</th>\n",
       "      <th>boughtInLastMonth</th>\n",
       "      <th>category</th>\n",
       "    </tr>\n",
       "  </thead>\n",
       "  <tbody>\n",
       "    <tr>\n",
       "      <th>747254</th>\n",
       "      <td>806083</td>\n",
       "      <td>B078M73SCK</td>\n",
       "      <td>2 Pack Thick Oval Dented Electric Guitar Jack ...</td>\n",
       "      <td>4.2</td>\n",
       "      <td>49</td>\n",
       "      <td>6.88</td>\n",
       "      <td>False</td>\n",
       "      <td>0</td>\n",
       "      <td>Guitars &amp; Gear</td>\n",
       "    </tr>\n",
       "    <tr>\n",
       "      <th>755686</th>\n",
       "      <td>815225</td>\n",
       "      <td>B0BQLR5XMX</td>\n",
       "      <td>QRTTLY 48V 14S 45A - Battery BMS PCB With Bala...</td>\n",
       "      <td>0.0</td>\n",
       "      <td>0</td>\n",
       "      <td>22.93</td>\n",
       "      <td>False</td>\n",
       "      <td>0</td>\n",
       "      <td>Sports &amp; Outdoors</td>\n",
       "    </tr>\n",
       "    <tr>\n",
       "      <th>902141</th>\n",
       "      <td>981638</td>\n",
       "      <td>B08BRZ6JDS</td>\n",
       "      <td>Callaway Golf Mens Golf 1/2 Zip Block Jacket -...</td>\n",
       "      <td>5.0</td>\n",
       "      <td>1</td>\n",
       "      <td>53.49</td>\n",
       "      <td>False</td>\n",
       "      <td>0</td>\n",
       "      <td>Sports &amp; Outdoors</td>\n",
       "    </tr>\n",
       "    <tr>\n",
       "      <th>1593508</th>\n",
       "      <td>1794574</td>\n",
       "      <td>B07XBMRKK7</td>\n",
       "      <td>Personalised Football Shirt Number Cushion Han...</td>\n",
       "      <td>4.8</td>\n",
       "      <td>20</td>\n",
       "      <td>27.95</td>\n",
       "      <td>False</td>\n",
       "      <td>0</td>\n",
       "      <td>Handmade Home Décor</td>\n",
       "    </tr>\n",
       "    <tr>\n",
       "      <th>134639</th>\n",
       "      <td>146103</td>\n",
       "      <td>B0C5XPTSYR</td>\n",
       "      <td>Women's T-Shirt Top Women's T-Shirt Blouses &amp; ...</td>\n",
       "      <td>0.0</td>\n",
       "      <td>0</td>\n",
       "      <td>10.95</td>\n",
       "      <td>False</td>\n",
       "      <td>0</td>\n",
       "      <td>Sports &amp; Outdoors</td>\n",
       "    </tr>\n",
       "    <tr>\n",
       "      <th>57784</th>\n",
       "      <td>62427</td>\n",
       "      <td>B08T1HJTLX</td>\n",
       "      <td>WHYSP 61 PBT Purple Keycaps for 60 Percent Key...</td>\n",
       "      <td>4.4</td>\n",
       "      <td>407</td>\n",
       "      <td>32.82</td>\n",
       "      <td>False</td>\n",
       "      <td>0</td>\n",
       "      <td>PC Gaming Accessories</td>\n",
       "    </tr>\n",
       "    <tr>\n",
       "      <th>1152905</th>\n",
       "      <td>1274309</td>\n",
       "      <td>B007136EDG</td>\n",
       "      <td>Skullcandy Ink'd 2.0 In-Ear Headphones with In...</td>\n",
       "      <td>4.2</td>\n",
       "      <td>32073</td>\n",
       "      <td>16.00</td>\n",
       "      <td>False</td>\n",
       "      <td>0</td>\n",
       "      <td>Headphones &amp; Earphones</td>\n",
       "    </tr>\n",
       "    <tr>\n",
       "      <th>1904081</th>\n",
       "      <td>2135651</td>\n",
       "      <td>B07Z6BLSL2</td>\n",
       "      <td>Rutland County Garden Furniture Cottesmore 6ft...</td>\n",
       "      <td>4.7</td>\n",
       "      <td>12</td>\n",
       "      <td>329.99</td>\n",
       "      <td>False</td>\n",
       "      <td>0</td>\n",
       "      <td>Garden Storage &amp; Housing</td>\n",
       "    </tr>\n",
       "    <tr>\n",
       "      <th>2261200</th>\n",
       "      <td>2610004</td>\n",
       "      <td>B0CF4LVK7C</td>\n",
       "      <td>Leapiture Bluetooth Speaker W2 Wireless Portab...</td>\n",
       "      <td>0.0</td>\n",
       "      <td>0</td>\n",
       "      <td>15.09</td>\n",
       "      <td>False</td>\n",
       "      <td>0</td>\n",
       "      <td>Hi-Fi Speakers</td>\n",
       "    </tr>\n",
       "    <tr>\n",
       "      <th>661066</th>\n",
       "      <td>710350</td>\n",
       "      <td>B0C3LY2YLC</td>\n",
       "      <td>JMEOWIO 3D Embossed Spring Flower Nail Art Sti...</td>\n",
       "      <td>5.0</td>\n",
       "      <td>1</td>\n",
       "      <td>6.89</td>\n",
       "      <td>False</td>\n",
       "      <td>0</td>\n",
       "      <td>Manicure &amp; Pedicure Products</td>\n",
       "    </tr>\n",
       "  </tbody>\n",
       "</table>\n",
       "</div>"
      ],
      "text/plain": [
       "             uid        asin  \\\n",
       "747254    806083  B078M73SCK   \n",
       "755686    815225  B0BQLR5XMX   \n",
       "902141    981638  B08BRZ6JDS   \n",
       "1593508  1794574  B07XBMRKK7   \n",
       "134639    146103  B0C5XPTSYR   \n",
       "57784      62427  B08T1HJTLX   \n",
       "1152905  1274309  B007136EDG   \n",
       "1904081  2135651  B07Z6BLSL2   \n",
       "2261200  2610004  B0CF4LVK7C   \n",
       "661066    710350  B0C3LY2YLC   \n",
       "\n",
       "                                                     title  stars  reviews  \\\n",
       "747254   2 Pack Thick Oval Dented Electric Guitar Jack ...    4.2       49   \n",
       "755686   QRTTLY 48V 14S 45A - Battery BMS PCB With Bala...    0.0        0   \n",
       "902141   Callaway Golf Mens Golf 1/2 Zip Block Jacket -...    5.0        1   \n",
       "1593508  Personalised Football Shirt Number Cushion Han...    4.8       20   \n",
       "134639   Women's T-Shirt Top Women's T-Shirt Blouses & ...    0.0        0   \n",
       "57784    WHYSP 61 PBT Purple Keycaps for 60 Percent Key...    4.4      407   \n",
       "1152905  Skullcandy Ink'd 2.0 In-Ear Headphones with In...    4.2    32073   \n",
       "1904081  Rutland County Garden Furniture Cottesmore 6ft...    4.7       12   \n",
       "2261200  Leapiture Bluetooth Speaker W2 Wireless Portab...    0.0        0   \n",
       "661066   JMEOWIO 3D Embossed Spring Flower Nail Art Sti...    5.0        1   \n",
       "\n",
       "          price  isBestSeller  boughtInLastMonth                      category  \n",
       "747254     6.88         False                  0                Guitars & Gear  \n",
       "755686    22.93         False                  0             Sports & Outdoors  \n",
       "902141    53.49         False                  0             Sports & Outdoors  \n",
       "1593508   27.95         False                  0           Handmade Home Décor  \n",
       "134639    10.95         False                  0             Sports & Outdoors  \n",
       "57784     32.82         False                  0         PC Gaming Accessories  \n",
       "1152905   16.00         False                  0        Headphones & Earphones  \n",
       "1904081  329.99         False                  0      Garden Storage & Housing  \n",
       "2261200   15.09         False                  0                Hi-Fi Speakers  \n",
       "661066     6.89         False                  0  Manicure & Pedicure Products  "
      ]
     },
     "execution_count": 6,
     "metadata": {},
     "output_type": "execute_result"
    }
   ],
   "source": [
    "df.sample(10)"
   ]
  },
  {
   "cell_type": "markdown",
   "id": "438917a9",
   "metadata": {},
   "source": [
    "### Part 1: Analyzing Best-Seller Trends Across Product Categories\n",
    "\n",
    "**Objective**: Understand the relationship between product categories and their best-seller status."
   ]
  },
  {
   "cell_type": "markdown",
   "id": "9d450504",
   "metadata": {},
   "source": [
    "\n",
    "1. **Crosstab Analysis**:\n",
    "    - Create a crosstab between the product `category` and the `isBestSeller` status.\n",
    "    \n",
    "    - Are there categories where being a best-seller is more prevalent? \n",
    "    \t\n",
    "    \t*Hint: one option is to calculate the proportion of best-sellers for each category and then sort the categories based on this proportion in descending order.*\n"
   ]
  },
  {
   "cell_type": "code",
   "execution_count": 7,
   "id": "af970d65",
   "metadata": {},
   "outputs": [],
   "source": [
    "cross_tab = pd.crosstab(df['category'], df['isBestSeller'], margins=True)"
   ]
  },
  {
   "cell_type": "code",
   "execution_count": 8,
   "id": "44a838d7",
   "metadata": {},
   "outputs": [
    {
     "data": {
      "text/html": [
       "<div>\n",
       "<style scoped>\n",
       "    .dataframe tbody tr th:only-of-type {\n",
       "        vertical-align: middle;\n",
       "    }\n",
       "\n",
       "    .dataframe tbody tr th {\n",
       "        vertical-align: top;\n",
       "    }\n",
       "\n",
       "    .dataframe thead th {\n",
       "        text-align: right;\n",
       "    }\n",
       "</style>\n",
       "<table border=\"1\" class=\"dataframe\">\n",
       "  <thead>\n",
       "    <tr style=\"text-align: right;\">\n",
       "      <th>isBestSeller</th>\n",
       "      <th>False</th>\n",
       "      <th>True</th>\n",
       "      <th>All</th>\n",
       "    </tr>\n",
       "    <tr>\n",
       "      <th>category</th>\n",
       "      <th></th>\n",
       "      <th></th>\n",
       "      <th></th>\n",
       "    </tr>\n",
       "  </thead>\n",
       "  <tbody>\n",
       "    <tr>\n",
       "      <th>3D Printers</th>\n",
       "      <td>247</td>\n",
       "      <td>1</td>\n",
       "      <td>248</td>\n",
       "    </tr>\n",
       "    <tr>\n",
       "      <th>3D Printing &amp; Scanning</th>\n",
       "      <td>4065</td>\n",
       "      <td>2</td>\n",
       "      <td>4067</td>\n",
       "    </tr>\n",
       "    <tr>\n",
       "      <th>Abrasive &amp; Finishing Products</th>\n",
       "      <td>245</td>\n",
       "      <td>5</td>\n",
       "      <td>250</td>\n",
       "    </tr>\n",
       "    <tr>\n",
       "      <th>Action Cameras</th>\n",
       "      <td>1696</td>\n",
       "      <td>1</td>\n",
       "      <td>1697</td>\n",
       "    </tr>\n",
       "    <tr>\n",
       "      <th>Adapters</th>\n",
       "      <td>251</td>\n",
       "      <td>3</td>\n",
       "      <td>254</td>\n",
       "    </tr>\n",
       "    <tr>\n",
       "      <th>...</th>\n",
       "      <td>...</td>\n",
       "      <td>...</td>\n",
       "      <td>...</td>\n",
       "    </tr>\n",
       "    <tr>\n",
       "      <th>Window Treatments</th>\n",
       "      <td>234</td>\n",
       "      <td>5</td>\n",
       "      <td>239</td>\n",
       "    </tr>\n",
       "    <tr>\n",
       "      <th>Women</th>\n",
       "      <td>17559</td>\n",
       "      <td>213</td>\n",
       "      <td>17772</td>\n",
       "    </tr>\n",
       "    <tr>\n",
       "      <th>Women's Sports &amp; Outdoor Shoes</th>\n",
       "      <td>1939</td>\n",
       "      <td>20</td>\n",
       "      <td>1959</td>\n",
       "    </tr>\n",
       "    <tr>\n",
       "      <th>eBook Readers &amp; Accessories</th>\n",
       "      <td>246</td>\n",
       "      <td>0</td>\n",
       "      <td>246</td>\n",
       "    </tr>\n",
       "    <tr>\n",
       "      <th>All</th>\n",
       "      <td>2435671</td>\n",
       "      <td>7980</td>\n",
       "      <td>2443651</td>\n",
       "    </tr>\n",
       "  </tbody>\n",
       "</table>\n",
       "<p>297 rows × 3 columns</p>\n",
       "</div>"
      ],
      "text/plain": [
       "isBestSeller                      False  True      All\n",
       "category                                              \n",
       "3D Printers                         247     1      248\n",
       "3D Printing & Scanning             4065     2     4067\n",
       "Abrasive & Finishing Products       245     5      250\n",
       "Action Cameras                     1696     1     1697\n",
       "Adapters                            251     3      254\n",
       "...                                 ...   ...      ...\n",
       "Window Treatments                   234     5      239\n",
       "Women                             17559   213    17772\n",
       "Women's Sports & Outdoor Shoes     1939    20     1959\n",
       "eBook Readers & Accessories         246     0      246\n",
       "All                             2435671  7980  2443651\n",
       "\n",
       "[297 rows x 3 columns]"
      ]
     },
     "execution_count": 8,
     "metadata": {},
     "output_type": "execute_result"
    }
   ],
   "source": [
    "cross_tab"
   ]
  },
  {
   "cell_type": "code",
   "execution_count": 9,
   "id": "30e6125c",
   "metadata": {},
   "outputs": [
    {
     "data": {
      "text/plain": [
       "isBestSeller\n",
       "False    int64\n",
       "True     int64\n",
       "All      int64\n",
       "dtype: object"
      ]
     },
     "execution_count": 9,
     "metadata": {},
     "output_type": "execute_result"
    }
   ],
   "source": [
    "cross_tab.dtypes"
   ]
  },
  {
   "cell_type": "code",
   "execution_count": 10,
   "id": "0497d4b3",
   "metadata": {},
   "outputs": [
    {
     "data": {
      "text/html": [
       "<div>\n",
       "<style scoped>\n",
       "    .dataframe tbody tr th:only-of-type {\n",
       "        vertical-align: middle;\n",
       "    }\n",
       "\n",
       "    .dataframe tbody tr th {\n",
       "        vertical-align: top;\n",
       "    }\n",
       "\n",
       "    .dataframe thead th {\n",
       "        text-align: right;\n",
       "    }\n",
       "</style>\n",
       "<table border=\"1\" class=\"dataframe\">\n",
       "  <thead>\n",
       "    <tr style=\"text-align: right;\">\n",
       "      <th>isBestSeller</th>\n",
       "      <th>False</th>\n",
       "      <th>True</th>\n",
       "      <th>All</th>\n",
       "      <th>Proportion</th>\n",
       "    </tr>\n",
       "    <tr>\n",
       "      <th>category</th>\n",
       "      <th></th>\n",
       "      <th></th>\n",
       "      <th></th>\n",
       "      <th></th>\n",
       "    </tr>\n",
       "  </thead>\n",
       "  <tbody>\n",
       "    <tr>\n",
       "      <th>3D Printers</th>\n",
       "      <td>247</td>\n",
       "      <td>1</td>\n",
       "      <td>248</td>\n",
       "      <td>0.004032</td>\n",
       "    </tr>\n",
       "    <tr>\n",
       "      <th>3D Printing &amp; Scanning</th>\n",
       "      <td>4065</td>\n",
       "      <td>2</td>\n",
       "      <td>4067</td>\n",
       "      <td>0.000492</td>\n",
       "    </tr>\n",
       "    <tr>\n",
       "      <th>Abrasive &amp; Finishing Products</th>\n",
       "      <td>245</td>\n",
       "      <td>5</td>\n",
       "      <td>250</td>\n",
       "      <td>0.020000</td>\n",
       "    </tr>\n",
       "    <tr>\n",
       "      <th>Action Cameras</th>\n",
       "      <td>1696</td>\n",
       "      <td>1</td>\n",
       "      <td>1697</td>\n",
       "      <td>0.000589</td>\n",
       "    </tr>\n",
       "    <tr>\n",
       "      <th>Adapters</th>\n",
       "      <td>251</td>\n",
       "      <td>3</td>\n",
       "      <td>254</td>\n",
       "      <td>0.011811</td>\n",
       "    </tr>\n",
       "    <tr>\n",
       "      <th>...</th>\n",
       "      <td>...</td>\n",
       "      <td>...</td>\n",
       "      <td>...</td>\n",
       "      <td>...</td>\n",
       "    </tr>\n",
       "    <tr>\n",
       "      <th>Window Treatments</th>\n",
       "      <td>234</td>\n",
       "      <td>5</td>\n",
       "      <td>239</td>\n",
       "      <td>0.020921</td>\n",
       "    </tr>\n",
       "    <tr>\n",
       "      <th>Women</th>\n",
       "      <td>17559</td>\n",
       "      <td>213</td>\n",
       "      <td>17772</td>\n",
       "      <td>0.011985</td>\n",
       "    </tr>\n",
       "    <tr>\n",
       "      <th>Women's Sports &amp; Outdoor Shoes</th>\n",
       "      <td>1939</td>\n",
       "      <td>20</td>\n",
       "      <td>1959</td>\n",
       "      <td>0.010209</td>\n",
       "    </tr>\n",
       "    <tr>\n",
       "      <th>eBook Readers &amp; Accessories</th>\n",
       "      <td>246</td>\n",
       "      <td>0</td>\n",
       "      <td>246</td>\n",
       "      <td>0.000000</td>\n",
       "    </tr>\n",
       "    <tr>\n",
       "      <th>All</th>\n",
       "      <td>2435671</td>\n",
       "      <td>7980</td>\n",
       "      <td>2443651</td>\n",
       "      <td>0.003266</td>\n",
       "    </tr>\n",
       "  </tbody>\n",
       "</table>\n",
       "<p>297 rows × 4 columns</p>\n",
       "</div>"
      ],
      "text/plain": [
       "isBestSeller                      False  True      All  Proportion\n",
       "category                                                          \n",
       "3D Printers                         247     1      248    0.004032\n",
       "3D Printing & Scanning             4065     2     4067    0.000492\n",
       "Abrasive & Finishing Products       245     5      250    0.020000\n",
       "Action Cameras                     1696     1     1697    0.000589\n",
       "Adapters                            251     3      254    0.011811\n",
       "...                                 ...   ...      ...         ...\n",
       "Window Treatments                   234     5      239    0.020921\n",
       "Women                             17559   213    17772    0.011985\n",
       "Women's Sports & Outdoor Shoes     1939    20     1959    0.010209\n",
       "eBook Readers & Accessories         246     0      246    0.000000\n",
       "All                             2435671  7980  2443651    0.003266\n",
       "\n",
       "[297 rows x 4 columns]"
      ]
     },
     "execution_count": 10,
     "metadata": {},
     "output_type": "execute_result"
    }
   ],
   "source": [
    "cross_tab_prop = cross_tab.copy()\n",
    "cross_tab_prop['Proportion'] = cross_tab[1] / cross_tab['All']\n",
    "cross_tab_prop"
   ]
  },
  {
   "cell_type": "code",
   "execution_count": 11,
   "id": "fa710751",
   "metadata": {},
   "outputs": [
    {
     "data": {
      "text/html": [
       "<div>\n",
       "<style scoped>\n",
       "    .dataframe tbody tr th:only-of-type {\n",
       "        vertical-align: middle;\n",
       "    }\n",
       "\n",
       "    .dataframe tbody tr th {\n",
       "        vertical-align: top;\n",
       "    }\n",
       "\n",
       "    .dataframe thead th {\n",
       "        text-align: right;\n",
       "    }\n",
       "</style>\n",
       "<table border=\"1\" class=\"dataframe\">\n",
       "  <thead>\n",
       "    <tr style=\"text-align: right;\">\n",
       "      <th>isBestSeller</th>\n",
       "      <th>False</th>\n",
       "      <th>True</th>\n",
       "      <th>All</th>\n",
       "      <th>Proportion</th>\n",
       "    </tr>\n",
       "    <tr>\n",
       "      <th>category</th>\n",
       "      <th></th>\n",
       "      <th></th>\n",
       "      <th></th>\n",
       "      <th></th>\n",
       "    </tr>\n",
       "  </thead>\n",
       "  <tbody>\n",
       "    <tr>\n",
       "      <th>Grocery</th>\n",
       "      <td>9008</td>\n",
       "      <td>556</td>\n",
       "      <td>9564</td>\n",
       "      <td>0.058135</td>\n",
       "    </tr>\n",
       "    <tr>\n",
       "      <th>Smart Home Security &amp; Lighting</th>\n",
       "      <td>98</td>\n",
       "      <td>6</td>\n",
       "      <td>104</td>\n",
       "      <td>0.057692</td>\n",
       "    </tr>\n",
       "    <tr>\n",
       "      <th>Health &amp; Personal Care</th>\n",
       "      <td>9017</td>\n",
       "      <td>552</td>\n",
       "      <td>9569</td>\n",
       "      <td>0.057686</td>\n",
       "    </tr>\n",
       "    <tr>\n",
       "      <th>Mobile Phone Accessories</th>\n",
       "      <td>248</td>\n",
       "      <td>11</td>\n",
       "      <td>259</td>\n",
       "      <td>0.042471</td>\n",
       "    </tr>\n",
       "    <tr>\n",
       "      <th>Power &amp; Hand Tools</th>\n",
       "      <td>8353</td>\n",
       "      <td>306</td>\n",
       "      <td>8659</td>\n",
       "      <td>0.035339</td>\n",
       "    </tr>\n",
       "    <tr>\n",
       "      <th>...</th>\n",
       "      <td>...</td>\n",
       "      <td>...</td>\n",
       "      <td>...</td>\n",
       "      <td>...</td>\n",
       "    </tr>\n",
       "    <tr>\n",
       "      <th>Snowboard Boots</th>\n",
       "      <td>1449</td>\n",
       "      <td>0</td>\n",
       "      <td>1449</td>\n",
       "      <td>0.000000</td>\n",
       "    </tr>\n",
       "    <tr>\n",
       "      <th>Internal TV Tuner &amp; Video Capture Cards</th>\n",
       "      <td>253</td>\n",
       "      <td>0</td>\n",
       "      <td>253</td>\n",
       "      <td>0.000000</td>\n",
       "    </tr>\n",
       "    <tr>\n",
       "      <th>Boxes &amp; Organisers</th>\n",
       "      <td>911</td>\n",
       "      <td>0</td>\n",
       "      <td>911</td>\n",
       "      <td>0.000000</td>\n",
       "    </tr>\n",
       "    <tr>\n",
       "      <th>Graphics Cards</th>\n",
       "      <td>249</td>\n",
       "      <td>0</td>\n",
       "      <td>249</td>\n",
       "      <td>0.000000</td>\n",
       "    </tr>\n",
       "    <tr>\n",
       "      <th>General Music-Making Accessories</th>\n",
       "      <td>259</td>\n",
       "      <td>0</td>\n",
       "      <td>259</td>\n",
       "      <td>0.000000</td>\n",
       "    </tr>\n",
       "  </tbody>\n",
       "</table>\n",
       "<p>297 rows × 4 columns</p>\n",
       "</div>"
      ],
      "text/plain": [
       "isBestSeller                             False  True   All  Proportion\n",
       "category                                                              \n",
       "Grocery                                   9008   556  9564    0.058135\n",
       "Smart Home Security & Lighting              98     6   104    0.057692\n",
       "Health & Personal Care                    9017   552  9569    0.057686\n",
       "Mobile Phone Accessories                   248    11   259    0.042471\n",
       "Power & Hand Tools                        8353   306  8659    0.035339\n",
       "...                                        ...   ...   ...         ...\n",
       "Snowboard Boots                           1449     0  1449    0.000000\n",
       "Internal TV Tuner & Video Capture Cards    253     0   253    0.000000\n",
       "Boxes & Organisers                         911     0   911    0.000000\n",
       "Graphics Cards                             249     0   249    0.000000\n",
       "General Music-Making Accessories           259     0   259    0.000000\n",
       "\n",
       "[297 rows x 4 columns]"
      ]
     },
     "execution_count": 11,
     "metadata": {},
     "output_type": "execute_result"
    }
   ],
   "source": [
    "cross_tab_prop_sorted = cross_tab_prop.sort_values(by='Proportion', ascending= False)\n",
    "cross_tab_prop_sorted"
   ]
  },
  {
   "cell_type": "code",
   "execution_count": 12,
   "id": "eac11447",
   "metadata": {},
   "outputs": [
    {
     "name": "stdout",
     "output_type": "stream",
     "text": [
      "Easiest categories to find Best sellers: ['Grocery', 'Smart Home Security & Lighting', 'Health & Personal Care', 'Mobile Phone Accessories', 'Power & Hand Tools']\n"
     ]
    }
   ],
   "source": [
    "bestsellercategories = [cross_tab_prop_sorted.index[0],cross_tab_prop_sorted.index[1],cross_tab_prop_sorted.index[2],cross_tab_prop_sorted.index[3],cross_tab_prop_sorted.index[4]]\n",
    "\n",
    "print(f'Easiest categories to find Best sellers: {bestsellercategories}')\n"
   ]
  },
  {
   "cell_type": "markdown",
   "id": "bad6d8d6",
   "metadata": {},
   "source": [
    "\n",
    "2. **Statistical Tests**:\n",
    "    - Conduct a Chi-square test to determine if the best-seller distribution is independent of the product category.\n",
    "    - Compute Cramér's V to understand the strength of association between best-seller status and category.\n"
   ]
  },
  {
   "cell_type": "code",
   "execution_count": 13,
   "id": "d1049848",
   "metadata": {},
   "outputs": [],
   "source": [
    "cross_tab =cross_tab.drop(\"All\", axis=0)"
   ]
  },
  {
   "cell_type": "code",
   "execution_count": 14,
   "id": "4cb0595c",
   "metadata": {},
   "outputs": [
    {
     "name": "stdout",
     "output_type": "stream",
     "text": [
      "0.00000000000000000000000000000000000000000000000000000000000000000000000000000000000000000000000000000000000000000000000000000000000000000000000000000000000000000000000000000000000000000000000000000000000000000000000000000000000000000000000000000000000000000000000000000000000000000000000000000000000000000000000000000000000000000000000000000000000000000000000000000000000000000000000000000000000000000000000000000000000000000000000000000000000000000000000000000000000000000000000000000000000000000000000000000000000000000000000000000000000000000000000000000000000000000000000000000000000000000000000000000000000000000000000000000000000000000000000000000000000000000000000000000000000000000000000000000000000000000000000000000000000000000000000000000000000000000000000000000000000000000000000000000000000000000000000000000000000000000000000000000000000000000000000000000000000000000000000000000000000000000000000000000000000000000000000000000000000000000000000000000000000000000000000000000000000000000000000000000000000000000000000000000000000000000000000000000000000000000000000000000000000000000000000000000000000000000000000000000000000000000000000000000000000000000000000000000000000000000000000000000000000000000000000000000000000000000000000000000000000000000000000000000000000000000000000000000000000000000000000000000000000000000000000000000000000000000000000000000000000000000000000000000000000000000000000000000000000000000000000000000000000000000000000000000000000000000000000000000000000000000000000000000000000000000000000000000000000000000000000000000000000000000000000000000000000000000000000000000000000000000000000000000000000000000000000000000000000000000000000000000000000000000000000000000000000000000000000000000000000000000000000000000000000000000000000000000000000000000000000000000000000000000000000000000000000000000000000000000000000000000000000000000000000000000000000000000000000000000000000000000000000000000000000000000000000000000000000000000000000000000000000000000000\n"
     ]
    }
   ],
   "source": [
    "_, p_value, _, _ = chi2_contingency(cross_tab)\n",
    "p_value\n",
    "num_sci = p_value\n",
    "print(f'{num_sci:.2000f}')"
   ]
  },
  {
   "cell_type": "markdown",
   "id": "44b2aa76",
   "metadata": {},
   "source": [
    "The null hypothesis of the Chi-square test is that the two categorical variables are independent. Given Null value ( p )-value, we reject the null hypothesis."
   ]
  },
  {
   "cell_type": "code",
   "execution_count": 15,
   "id": "03f8e84e",
   "metadata": {},
   "outputs": [
    {
     "data": {
      "text/plain": [
       "0.061141471988028204"
      ]
     },
     "execution_count": 15,
     "metadata": {},
     "output_type": "execute_result"
    }
   ],
   "source": [
    "association(cross_tab)"
   ]
  },
  {
   "cell_type": "markdown",
   "id": "e87c9f2a",
   "metadata": {},
   "source": [
    "The value 0.061141471988028204 likely represents the strength of association between the categories of books and their status as bestsellers, with a Cramer's V statistic of approximately 0.061. This suggests a relatively weak association between these variables in the context of the analysis."
   ]
  },
  {
   "cell_type": "markdown",
   "id": "a586fb71",
   "metadata": {},
   "source": [
    "3. **Visualizations**:\n",
    "\t- Visualize the relationship between product categories and the best-seller status using a stacked bar chart.\n"
   ]
  },
  {
   "cell_type": "code",
   "execution_count": 16,
   "id": "8ded5f80",
   "metadata": {},
   "outputs": [
    {
     "data": {
      "text/html": [
       "<div>\n",
       "<style scoped>\n",
       "    .dataframe tbody tr th:only-of-type {\n",
       "        vertical-align: middle;\n",
       "    }\n",
       "\n",
       "    .dataframe tbody tr th {\n",
       "        vertical-align: top;\n",
       "    }\n",
       "\n",
       "    .dataframe thead th {\n",
       "        text-align: right;\n",
       "    }\n",
       "</style>\n",
       "<table border=\"1\" class=\"dataframe\">\n",
       "  <thead>\n",
       "    <tr style=\"text-align: right;\">\n",
       "      <th>isBestSeller</th>\n",
       "      <th>category</th>\n",
       "      <th>False</th>\n",
       "      <th>True</th>\n",
       "    </tr>\n",
       "  </thead>\n",
       "  <tbody>\n",
       "    <tr>\n",
       "      <th>0</th>\n",
       "      <td>3D Printers</td>\n",
       "      <td>247</td>\n",
       "      <td>1</td>\n",
       "    </tr>\n",
       "    <tr>\n",
       "      <th>1</th>\n",
       "      <td>3D Printing &amp; Scanning</td>\n",
       "      <td>4065</td>\n",
       "      <td>2</td>\n",
       "    </tr>\n",
       "    <tr>\n",
       "      <th>2</th>\n",
       "      <td>Abrasive &amp; Finishing Products</td>\n",
       "      <td>245</td>\n",
       "      <td>5</td>\n",
       "    </tr>\n",
       "    <tr>\n",
       "      <th>3</th>\n",
       "      <td>Action Cameras</td>\n",
       "      <td>1696</td>\n",
       "      <td>1</td>\n",
       "    </tr>\n",
       "    <tr>\n",
       "      <th>4</th>\n",
       "      <td>Adapters</td>\n",
       "      <td>251</td>\n",
       "      <td>3</td>\n",
       "    </tr>\n",
       "    <tr>\n",
       "      <th>...</th>\n",
       "      <td>...</td>\n",
       "      <td>...</td>\n",
       "      <td>...</td>\n",
       "    </tr>\n",
       "    <tr>\n",
       "      <th>291</th>\n",
       "      <td>Wind Instruments</td>\n",
       "      <td>243</td>\n",
       "      <td>7</td>\n",
       "    </tr>\n",
       "    <tr>\n",
       "      <th>292</th>\n",
       "      <td>Window Treatments</td>\n",
       "      <td>234</td>\n",
       "      <td>5</td>\n",
       "    </tr>\n",
       "    <tr>\n",
       "      <th>293</th>\n",
       "      <td>Women</td>\n",
       "      <td>17559</td>\n",
       "      <td>213</td>\n",
       "    </tr>\n",
       "    <tr>\n",
       "      <th>294</th>\n",
       "      <td>Women's Sports &amp; Outdoor Shoes</td>\n",
       "      <td>1939</td>\n",
       "      <td>20</td>\n",
       "    </tr>\n",
       "    <tr>\n",
       "      <th>295</th>\n",
       "      <td>eBook Readers &amp; Accessories</td>\n",
       "      <td>246</td>\n",
       "      <td>0</td>\n",
       "    </tr>\n",
       "  </tbody>\n",
       "</table>\n",
       "<p>296 rows × 3 columns</p>\n",
       "</div>"
      ],
      "text/plain": [
       "isBestSeller                        category  False  True\n",
       "0                                3D Printers    247     1\n",
       "1                     3D Printing & Scanning   4065     2\n",
       "2              Abrasive & Finishing Products    245     5\n",
       "3                             Action Cameras   1696     1\n",
       "4                                   Adapters    251     3\n",
       "..                                       ...    ...   ...\n",
       "291                         Wind Instruments    243     7\n",
       "292                        Window Treatments    234     5\n",
       "293                                    Women  17559   213\n",
       "294           Women's Sports & Outdoor Shoes   1939    20\n",
       "295              eBook Readers & Accessories    246     0\n",
       "\n",
       "[296 rows x 3 columns]"
      ]
     },
     "execution_count": 16,
     "metadata": {},
     "output_type": "execute_result"
    }
   ],
   "source": [
    "cross_tab2 = cross_tab.drop(columns=['All'])\n",
    "cross_tab2.reset_index(inplace=True)\n",
    "cross_tab2"
   ]
  },
  {
   "cell_type": "code",
   "execution_count": 17,
   "id": "a8b0b8e6",
   "metadata": {},
   "outputs": [
    {
     "data": {
      "text/plain": [
       "<Figure size 2000x1200 with 0 Axes>"
      ]
     },
     "metadata": {},
     "output_type": "display_data"
    },
    {
     "data": {
      "image/png": "[encoded data removed]",
      "text/plain": [
       "<Figure size 640x480 with 1 Axes>"
      ]
     },
     "metadata": {},
     "output_type": "display_data"
    }
   ],
   "source": [
    "plt.figure(figsize = (20,12))\n",
    "cross_tab2.plot(kind ='bar', stacked = \"Proportion\", color=[\"red\",\"pink\"])\n",
    "plt.xlabel(\"Category\", labelpad=10, loc='center')\n",
    "plt.ylabel(\"Number of Best-Sellers\")\n",
    "plt.xticks(rotation=90)\n",
    "plt.show()"
   ]
  },
  {
   "cell_type": "markdown",
   "id": "d59a67e6",
   "metadata": {},
   "source": [
    "### Part 2: Exploring Product Prices and Ratings Across Categories and Brands\n",
    "\n",
    "**Objective**: Investigate how different product categories influence product prices.\n",
    "\n"
   ]
  },
  {
   "cell_type": "markdown",
   "id": "0d920d03",
   "metadata": {},
   "source": [
    "0. **Preliminary Step: Remove outliers in product prices.**\n",
    "\n",
    "\tFor this purpose, we can use the IQR (Interquartile Range) method. Products priced below the first quartile minus 1.5 times the IQR or above the third quartile plus 1.5 times the IQR will be considered outliers and removed from the dataset. The next steps will be done with the dataframe without outliers.\n",
    "\t\n",
    "\t*Hint: you can check the last Check For Understanding at the end of the lesson EDA Bivariate Analysis for a hint on how to do this.*\n",
    "\n"
   ]
  },
  {
   "cell_type": "code",
   "execution_count": 18,
   "id": "48de3be7",
   "metadata": {},
   "outputs": [
    {
     "data": {
      "text/plain": [
       "count    2443651.00\n",
       "mean          89.24\n",
       "std          345.61\n",
       "min            0.00\n",
       "25%            9.99\n",
       "50%           19.09\n",
       "75%           45.99\n",
       "max       100000.00\n",
       "Name: price, dtype: float64"
      ]
     },
     "execution_count": 18,
     "metadata": {},
     "output_type": "execute_result"
    }
   ],
   "source": [
    "df[\"price\"].describe().round(2)"
   ]
  },
  {
   "cell_type": "code",
   "execution_count": 19,
   "id": "d76c2b78",
   "metadata": {},
   "outputs": [],
   "source": [
    "Q1 = np.percentile(df[\"price\"],25)\n",
    "Q3 = np.percentile(df[\"price\"],75)\n",
    "IQR = Q3-Q1"
   ]
  },
  {
   "cell_type": "code",
   "execution_count": 20,
   "id": "8e0cdad2",
   "metadata": {},
   "outputs": [],
   "source": [
    "lower_bound = Q1-1.5*IQR\n",
    "upper_bound = Q3+1.5*IQR"
   ]
  },
  {
   "cell_type": "code",
   "execution_count": 21,
   "id": "fc9d93ae",
   "metadata": {},
   "outputs": [],
   "source": [
    "df_outliers= df[(df[\"price\"]< lower_bound) | (df[\"price\"]> upper_bound)]"
   ]
  },
  {
   "cell_type": "code",
   "execution_count": 22,
   "id": "0d2fe659",
   "metadata": {},
   "outputs": [],
   "source": [
    "df2 = df[(df[\"price\"]>= lower_bound) & (df[\"price\"]<=upper_bound)]"
   ]
  },
  {
   "cell_type": "code",
   "execution_count": 23,
   "id": "5f78f006",
   "metadata": {},
   "outputs": [
    {
     "data": {
      "text/html": [
       "<div>\n",
       "<style scoped>\n",
       "    .dataframe tbody tr th:only-of-type {\n",
       "        vertical-align: middle;\n",
       "    }\n",
       "\n",
       "    .dataframe tbody tr th {\n",
       "        vertical-align: top;\n",
       "    }\n",
       "\n",
       "    .dataframe thead th {\n",
       "        text-align: right;\n",
       "    }\n",
       "</style>\n",
       "<table border=\"1\" class=\"dataframe\">\n",
       "  <thead>\n",
       "    <tr style=\"text-align: right;\">\n",
       "      <th></th>\n",
       "      <th>uid</th>\n",
       "      <th>asin</th>\n",
       "      <th>title</th>\n",
       "      <th>stars</th>\n",
       "      <th>reviews</th>\n",
       "      <th>price</th>\n",
       "      <th>isBestSeller</th>\n",
       "      <th>boughtInLastMonth</th>\n",
       "      <th>category</th>\n",
       "    </tr>\n",
       "  </thead>\n",
       "  <tbody>\n",
       "    <tr>\n",
       "      <th>0</th>\n",
       "      <td>1</td>\n",
       "      <td>B09B96TG33</td>\n",
       "      <td>Echo Dot (5th generation, 2022 release) | Big ...</td>\n",
       "      <td>4.7</td>\n",
       "      <td>15308</td>\n",
       "      <td>21.99</td>\n",
       "      <td>False</td>\n",
       "      <td>0</td>\n",
       "      <td>Hi-Fi Speakers</td>\n",
       "    </tr>\n",
       "    <tr>\n",
       "      <th>1</th>\n",
       "      <td>2</td>\n",
       "      <td>B01HTH3C8S</td>\n",
       "      <td>Anker Soundcore mini, Super-Portable Bluetooth...</td>\n",
       "      <td>4.7</td>\n",
       "      <td>98099</td>\n",
       "      <td>23.99</td>\n",
       "      <td>True</td>\n",
       "      <td>0</td>\n",
       "      <td>Hi-Fi Speakers</td>\n",
       "    </tr>\n",
       "    <tr>\n",
       "      <th>2</th>\n",
       "      <td>3</td>\n",
       "      <td>B09B8YWXDF</td>\n",
       "      <td>Echo Dot (5th generation, 2022 release) | Big ...</td>\n",
       "      <td>4.7</td>\n",
       "      <td>15308</td>\n",
       "      <td>21.99</td>\n",
       "      <td>False</td>\n",
       "      <td>0</td>\n",
       "      <td>Hi-Fi Speakers</td>\n",
       "    </tr>\n",
       "    <tr>\n",
       "      <th>3</th>\n",
       "      <td>4</td>\n",
       "      <td>B09B8T5VGV</td>\n",
       "      <td>Echo Dot with clock (5th generation, 2022 rele...</td>\n",
       "      <td>4.7</td>\n",
       "      <td>7205</td>\n",
       "      <td>31.99</td>\n",
       "      <td>False</td>\n",
       "      <td>0</td>\n",
       "      <td>Hi-Fi Speakers</td>\n",
       "    </tr>\n",
       "    <tr>\n",
       "      <th>4</th>\n",
       "      <td>5</td>\n",
       "      <td>B09WX6QD65</td>\n",
       "      <td>Introducing Echo Pop | Full sound compact Wi-F...</td>\n",
       "      <td>4.6</td>\n",
       "      <td>1881</td>\n",
       "      <td>17.99</td>\n",
       "      <td>False</td>\n",
       "      <td>0</td>\n",
       "      <td>Hi-Fi Speakers</td>\n",
       "    </tr>\n",
       "    <tr>\n",
       "      <th>...</th>\n",
       "      <td>...</td>\n",
       "      <td>...</td>\n",
       "      <td>...</td>\n",
       "      <td>...</td>\n",
       "      <td>...</td>\n",
       "      <td>...</td>\n",
       "      <td>...</td>\n",
       "      <td>...</td>\n",
       "      <td>...</td>\n",
       "    </tr>\n",
       "    <tr>\n",
       "      <th>2443646</th>\n",
       "      <td>2828589</td>\n",
       "      <td>B0CHSD7P2Q</td>\n",
       "      <td>Motorbike Armour, Motorbike Clothing, Cycling ...</td>\n",
       "      <td>0.0</td>\n",
       "      <td>0</td>\n",
       "      <td>22.34</td>\n",
       "      <td>False</td>\n",
       "      <td>0</td>\n",
       "      <td>Motorbike Clothing</td>\n",
       "    </tr>\n",
       "    <tr>\n",
       "      <th>2443647</th>\n",
       "      <td>2828590</td>\n",
       "      <td>B0B7B8FNBQ</td>\n",
       "      <td>PROFIRST Waterproof Motorcycle 2 Piece Ladies ...</td>\n",
       "      <td>0.0</td>\n",
       "      <td>0</td>\n",
       "      <td>97.99</td>\n",
       "      <td>False</td>\n",
       "      <td>0</td>\n",
       "      <td>Motorbike Clothing</td>\n",
       "    </tr>\n",
       "    <tr>\n",
       "      <th>2443648</th>\n",
       "      <td>2828591</td>\n",
       "      <td>B0BD5FL5FB</td>\n",
       "      <td>Men’s Motorcycle Motorbike Biker Trousers Kevl...</td>\n",
       "      <td>0.0</td>\n",
       "      <td>0</td>\n",
       "      <td>52.99</td>\n",
       "      <td>False</td>\n",
       "      <td>0</td>\n",
       "      <td>Motorbike Clothing</td>\n",
       "    </tr>\n",
       "    <tr>\n",
       "      <th>2443649</th>\n",
       "      <td>2828592</td>\n",
       "      <td>B008OYLL4I</td>\n",
       "      <td>Texpeed Mens Motorcycle Motorbike Biker Trouse...</td>\n",
       "      <td>4.3</td>\n",
       "      <td>404</td>\n",
       "      <td>79.99</td>\n",
       "      <td>False</td>\n",
       "      <td>0</td>\n",
       "      <td>Motorbike Clothing</td>\n",
       "    </tr>\n",
       "    <tr>\n",
       "      <th>2443650</th>\n",
       "      <td>2828593</td>\n",
       "      <td>B08P3W9B3T</td>\n",
       "      <td>RIDEX CJ223 Motorcycle Motorbike Jacket Armour...</td>\n",
       "      <td>4.5</td>\n",
       "      <td>34</td>\n",
       "      <td>53.99</td>\n",
       "      <td>False</td>\n",
       "      <td>0</td>\n",
       "      <td>Motorbike Clothing</td>\n",
       "    </tr>\n",
       "  </tbody>\n",
       "</table>\n",
       "<p>2115963 rows × 9 columns</p>\n",
       "</div>"
      ],
      "text/plain": [
       "             uid        asin  \\\n",
       "0              1  B09B96TG33   \n",
       "1              2  B01HTH3C8S   \n",
       "2              3  B09B8YWXDF   \n",
       "3              4  B09B8T5VGV   \n",
       "4              5  B09WX6QD65   \n",
       "...          ...         ...   \n",
       "2443646  2828589  B0CHSD7P2Q   \n",
       "2443647  2828590  B0B7B8FNBQ   \n",
       "2443648  2828591  B0BD5FL5FB   \n",
       "2443649  2828592  B008OYLL4I   \n",
       "2443650  2828593  B08P3W9B3T   \n",
       "\n",
       "                                                     title  stars  reviews  \\\n",
       "0        Echo Dot (5th generation, 2022 release) | Big ...    4.7    15308   \n",
       "1        Anker Soundcore mini, Super-Portable Bluetooth...    4.7    98099   \n",
       "2        Echo Dot (5th generation, 2022 release) | Big ...    4.7    15308   \n",
       "3        Echo Dot with clock (5th generation, 2022 rele...    4.7     7205   \n",
       "4        Introducing Echo Pop | Full sound compact Wi-F...    4.6     1881   \n",
       "...                                                    ...    ...      ...   \n",
       "2443646  Motorbike Armour, Motorbike Clothing, Cycling ...    0.0        0   \n",
       "2443647  PROFIRST Waterproof Motorcycle 2 Piece Ladies ...    0.0        0   \n",
       "2443648  Men’s Motorcycle Motorbike Biker Trousers Kevl...    0.0        0   \n",
       "2443649  Texpeed Mens Motorcycle Motorbike Biker Trouse...    4.3      404   \n",
       "2443650  RIDEX CJ223 Motorcycle Motorbike Jacket Armour...    4.5       34   \n",
       "\n",
       "         price  isBestSeller  boughtInLastMonth            category  \n",
       "0        21.99         False                  0      Hi-Fi Speakers  \n",
       "1        23.99          True                  0      Hi-Fi Speakers  \n",
       "2        21.99         False                  0      Hi-Fi Speakers  \n",
       "3        31.99         False                  0      Hi-Fi Speakers  \n",
       "4        17.99         False                  0      Hi-Fi Speakers  \n",
       "...        ...           ...                ...                 ...  \n",
       "2443646  22.34         False                  0  Motorbike Clothing  \n",
       "2443647  97.99         False                  0  Motorbike Clothing  \n",
       "2443648  52.99         False                  0  Motorbike Clothing  \n",
       "2443649  79.99         False                  0  Motorbike Clothing  \n",
       "2443650  53.99         False                  0  Motorbike Clothing  \n",
       "\n",
       "[2115963 rows x 9 columns]"
      ]
     },
     "execution_count": 23,
     "metadata": {},
     "output_type": "execute_result"
    }
   ],
   "source": [
    "df2"
   ]
  },
  {
   "cell_type": "markdown",
   "id": "aab8e1ee",
   "metadata": {},
   "source": [
    "1. **Violin Plots**:\n",
    "    - Use a violin plot to visualize the distribution of `price` across different product `categories`. Filter out the top 20 categories based on count for better visualization.\n",
    "    - Which product category tends to have the highest median price? Don't filter here by top categories.\n",
    "\n"
   ]
  },
  {
   "cell_type": "code",
   "execution_count": 24,
   "id": "2d97b350",
   "metadata": {},
   "outputs": [],
   "source": [
    "top_categories = df2['category'].value_counts().head(20).index\n",
    "df2filter = df2[df2['category'].isin(top_categories)]"
   ]
  },
  {
   "cell_type": "code",
   "execution_count": 25,
   "id": "54cf8346",
   "metadata": {},
   "outputs": [
    {
     "data": {
      "image/png": "[encoded data removed]",
      "text/plain": [
       "<Figure size 640x480 with 1 Axes>"
      ]
     },
     "metadata": {},
     "output_type": "display_data"
    }
   ],
   "source": [
    "sns.violinplot(data=df2filter, x=\"category\", y=\"price\")\n",
    "plt.xticks(rotation=90)\n",
    "plt.xlabel(\"Category\", labelpad=10, loc='center')\n",
    "plt.show()"
   ]
  },
  {
   "cell_type": "markdown",
   "id": "acce5b0d",
   "metadata": {},
   "source": [
    "2. **Bar Charts**:\n",
    "    - Create a bar chart comparing the average price of products for the top 10 product categories (based on count).\n",
    "    - Which product category commands the highest average price? Don't filter here by top categories.\n",
    "\n"
   ]
  },
  {
   "cell_type": "code",
   "execution_count": 26,
   "id": "9b7f888c",
   "metadata": {},
   "outputs": [],
   "source": [
    "df_avg_prices =  df2.groupby(\"category\")[\"price\"].mean()\n",
    "top10 = df_avg_prices.nlargest(10)"
   ]
  },
  {
   "cell_type": "code",
   "execution_count": 27,
   "id": "80b38049",
   "metadata": {},
   "outputs": [
    {
     "data": {
      "image/png": "[encoded data removed]",
      "text/plain": [
       "<Figure size 1000x600 with 1 Axes>"
      ]
     },
     "metadata": {},
     "output_type": "display_data"
    }
   ],
   "source": [
    "plt.figure(figsize=(10, 6))\n",
    "top10.plot(kind='bar', color='skyblue')\n",
    "plt.title('Average Price of Top 10 Product Categories')\n",
    "plt.xlabel('Product Category')\n",
    "plt.ylabel('Average Price')\n",
    "plt.xticks(rotation=45, ha='right')\n",
    "plt.tight_layout()\n",
    "plt.show()\n"
   ]
  },
  {
   "cell_type": "code",
   "execution_count": 28,
   "id": "f831cffe",
   "metadata": {},
   "outputs": [
    {
     "name": "stdout",
     "output_type": "stream",
     "text": [
      "The product category with the highest average price is Motherboards with an average price of 68.77243243243242\n"
     ]
    }
   ],
   "source": [
    "highest_avg_price_category = df_avg_prices.idxmax()\n",
    "highest_avg_price_product = df_avg_prices.max()\n",
    "print(f\"The product category with the highest average price is {highest_avg_price_category} with an average price of {highest_avg_price_product}\")"
   ]
  },
  {
   "cell_type": "markdown",
   "id": "d20995b4",
   "metadata": {},
   "source": [
    "3. **Box Plots**:\n",
    "    - Visualize the distribution of product `ratings` based on their `category` using side-by-side box plots. Filter out the top 10 categories based on count for better visualization.\n",
    "    - Which category tends to receive the highest median rating from customers? Don't filter here by top categories."
   ]
  },
  {
   "cell_type": "markdown",
   "id": "e1dac1d7",
   "metadata": {},
   "source": [
    "### Part 3: Investigating the Interplay Between Product Prices and Ratings\n",
    "\n",
    "**Objective**: Analyze how product ratings (`stars`) correlate with product prices.\n",
    "\n"
   ]
  },
  {
   "cell_type": "markdown",
   "id": "52822726",
   "metadata": {},
   "source": [
    "1. **Correlation Coefficients**:\n",
    "    - Calculate the correlation coefficient between `price` and `stars`.\n",
    "    - Is there a significant correlation between product price and its rating?"
   ]
  },
  {
   "cell_type": "markdown",
   "id": "74d932ae",
   "metadata": {},
   "source": [
    "2. **Visualizations**:\n",
    "    - Use a scatter plot to visualize the relationship between product rating and price. What patterns can you observe?\n",
    "    - Use a correlation heatmap to visualize correlations between all numerical variables.\n",
    "    - Examine if product prices typically follow a normal distribution using a QQ plot. "
   ]
  },
  {
   "cell_type": "code",
   "execution_count": null,
   "id": "39fbc888",
   "metadata": {},
   "outputs": [],
   "source": []
  }
 ],
 "metadata": {
  "kernelspec": {
   "display_name": "Python 3 (ipykernel)",
   "language": "python",
   "name": "python3"
  },
  "language_info": {
   "codemirror_mode": {
    "name": "ipython",
    "version": 3
   },
   "file_extension": ".py",
   "mimetype": "text/x-python",
   "name": "python",
   "nbconvert_exporter": "python",
   "pygments_lexer": "ipython3",
   "version": "3.11.5"
  }
 },
 "nbformat": 4,
 "nbformat_minor": 5
}
